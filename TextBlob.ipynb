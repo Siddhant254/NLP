{
  "nbformat": 4,
  "nbformat_minor": 0,
  "metadata": {
    "colab": {
      "provenance": [],
      "authorship_tag": "ABX9TyPG+cG306yNKig4+hOl/gAe",
      "include_colab_link": true
    },
    "kernelspec": {
      "name": "python3",
      "display_name": "Python 3"
    },
    "language_info": {
      "name": "python"
    }
  },
  "cells": [
    {
      "cell_type": "markdown",
      "metadata": {
        "id": "view-in-github",
        "colab_type": "text"
      },
      "source": [
        "<a href=\"https://colab.research.google.com/github/Siddhant254/NLP/blob/master/TextBlob.ipynb\" target=\"_parent\"><img src=\"https://colab.research.google.com/assets/colab-badge.svg\" alt=\"Open In Colab\"/></a>"
      ]
    },
    {
      "cell_type": "code",
      "execution_count": 3,
      "metadata": {
        "colab": {
          "base_uri": "https://localhost:8080/"
        },
        "id": "MS7hnsXBXxV7",
        "outputId": "9128a031-b290-4ace-f921-c2f25e21156f"
      },
      "outputs": [
        {
          "output_type": "stream",
          "name": "stdout",
          "text": [
            "Requirement already satisfied: textblob in /usr/local/lib/python3.10/dist-packages (0.17.1)\n",
            "Requirement already satisfied: nltk>=3.1 in /usr/local/lib/python3.10/dist-packages (from textblob) (3.8.1)\n",
            "Requirement already satisfied: click in /usr/local/lib/python3.10/dist-packages (from nltk>=3.1->textblob) (8.1.3)\n",
            "Requirement already satisfied: joblib in /usr/local/lib/python3.10/dist-packages (from nltk>=3.1->textblob) (1.2.0)\n",
            "Requirement already satisfied: regex>=2021.8.3 in /usr/local/lib/python3.10/dist-packages (from nltk>=3.1->textblob) (2022.10.31)\n",
            "Requirement already satisfied: tqdm in /usr/local/lib/python3.10/dist-packages (from nltk>=3.1->textblob) (4.65.0)\n"
          ]
        }
      ],
      "source": [
        "pip install textblob"
      ]
    },
    {
      "cell_type": "code",
      "source": [
        "# Downloading all models of nltk\n",
        "!python -m textblob.download_corpora"
      ],
      "metadata": {
        "colab": {
          "base_uri": "https://localhost:8080/"
        },
        "id": "-16mAbjwX946",
        "outputId": "48359a03-8577-413e-b18a-275686f2743f"
      },
      "execution_count": 4,
      "outputs": [
        {
          "output_type": "stream",
          "name": "stdout",
          "text": [
            "[nltk_data] Downloading package brown to /root/nltk_data...\n",
            "[nltk_data]   Unzipping corpora/brown.zip.\n",
            "[nltk_data] Downloading package punkt to /root/nltk_data...\n",
            "[nltk_data]   Unzipping tokenizers/punkt.zip.\n",
            "[nltk_data] Downloading package wordnet to /root/nltk_data...\n",
            "[nltk_data] Downloading package averaged_perceptron_tagger to\n",
            "[nltk_data]     /root/nltk_data...\n",
            "[nltk_data]   Unzipping taggers/averaged_perceptron_tagger.zip.\n",
            "[nltk_data] Downloading package conll2000 to /root/nltk_data...\n",
            "[nltk_data]   Unzipping corpora/conll2000.zip.\n",
            "[nltk_data] Downloading package movie_reviews to /root/nltk_data...\n",
            "[nltk_data]   Unzipping corpora/movie_reviews.zip.\n",
            "Finished.\n"
          ]
        }
      ]
    },
    {
      "cell_type": "code",
      "source": [
        "# Importing TextBlob class\n",
        "from textblob import TextBlob\n",
        "\n",
        "# object\n",
        "data = TextBlob('Today is Friday!! and on sunday we have Argentina vs France')"
      ],
      "metadata": {
        "id": "RcsGuxI1YG2O"
      },
      "execution_count": 5,
      "outputs": []
    },
    {
      "cell_type": "code",
      "source": [
        "# POS Tagging\n",
        "data.tags"
      ],
      "metadata": {
        "colab": {
          "base_uri": "https://localhost:8080/"
        },
        "id": "u3MdyRwTaDPP",
        "outputId": "5068664d-4352-478e-8623-30345469fda7"
      },
      "execution_count": 6,
      "outputs": [
        {
          "output_type": "execute_result",
          "data": {
            "text/plain": [
              "[('Today', 'NN'),\n",
              " ('is', 'VBZ'),\n",
              " ('Friday', 'NNP'),\n",
              " ('and', 'CC'),\n",
              " ('on', 'IN'),\n",
              " ('sunday', 'NN'),\n",
              " ('we', 'PRP'),\n",
              " ('have', 'VBP'),\n",
              " ('Argentina', 'NNP'),\n",
              " ('vs', 'NN'),\n",
              " ('France', 'NNP')]"
            ]
          },
          "metadata": {},
          "execution_count": 6
        }
      ]
    },
    {
      "cell_type": "code",
      "source": [
        "# Noun phrase Extraction\n",
        "data.noun_phrases"
      ],
      "metadata": {
        "colab": {
          "base_uri": "https://localhost:8080/"
        },
        "id": "rd-BaSelaQjb",
        "outputId": "cb46da32-95f2-4b74-b215-7450c5f2ceff"
      },
      "execution_count": 7,
      "outputs": [
        {
          "output_type": "execute_result",
          "data": {
            "text/plain": [
              "WordList(['argentina', 'france'])"
            ]
          },
          "metadata": {},
          "execution_count": 7
        }
      ]
    },
    {
      "cell_type": "code",
      "source": [
        "# Word tokenization\n",
        "data.words"
      ],
      "metadata": {
        "colab": {
          "base_uri": "https://localhost:8080/"
        },
        "id": "htlfmlXFa8sy",
        "outputId": "5e613b3a-4b73-44f6-afd8-97f811aa59b1"
      },
      "execution_count": 8,
      "outputs": [
        {
          "output_type": "execute_result",
          "data": {
            "text/plain": [
              "WordList(['Today', 'is', 'Friday', 'and', 'on', 'sunday', 'we', 'have', 'Argentina', 'vs', 'France'])"
            ]
          },
          "metadata": {},
          "execution_count": 8
        }
      ]
    },
    {
      "cell_type": "code",
      "source": [
        "# sentence tokenization\n",
        "data.sentences"
      ],
      "metadata": {
        "colab": {
          "base_uri": "https://localhost:8080/"
        },
        "id": "JDkpPEcsdAVS",
        "outputId": "79ef70c8-2812-46b4-8720-d6db6aad8ab1"
      },
      "execution_count": 9,
      "outputs": [
        {
          "output_type": "execute_result",
          "data": {
            "text/plain": [
              "[Sentence(\"Today is Friday!!\"),\n",
              " Sentence(\"and on sunday we have Argentina vs France\")]"
            ]
          },
          "metadata": {},
          "execution_count": 9
        }
      ]
    },
    {
      "cell_type": "code",
      "source": [
        "# spelling correction\n",
        "data = TextBlob(\"can you pronaaunce czechuslovakia?\")\n",
        "print(data.correct())"
      ],
      "metadata": {
        "colab": {
          "base_uri": "https://localhost:8080/"
        },
        "id": "1FjC5bjRdH-6",
        "outputId": "fbeb060b-411c-45cc-f6ce-5dbfe2515b1c"
      },
      "execution_count": 10,
      "outputs": [
        {
          "output_type": "stream",
          "name": "stdout",
          "text": [
            "can you pronounce czechoslovakia?\n"
          ]
        }
      ]
    },
    {
      "cell_type": "code",
      "source": [
        "# Importing Word package\n",
        "from textblob import Word\n",
        "\n",
        "k = Word('Can')\n",
        "k.spellcheck() # Gives prob of words relating to Can\n"
      ],
      "metadata": {
        "colab": {
          "base_uri": "https://localhost:8080/"
        },
        "id": "POlge51Ddwp5",
        "outputId": "21a5d9f3-19a9-445b-8124-933246db938d"
      },
      "execution_count": 11,
      "outputs": [
        {
          "output_type": "execute_result",
          "data": {
            "text/plain": [
              "[('An', 0.5222764723832773),\n",
              " ('Man', 0.25205981080256334),\n",
              " ('Can', 0.1670735428745804),\n",
              " ('Ran', 0.049130302105584375),\n",
              " ('San', 0.003051571559353067),\n",
              " ('Van', 0.0028989929813854134),\n",
              " ('Fan', 0.0012206286237412267),\n",
              " ('Ban', 0.00091547146780592),\n",
              " ('Pan', 0.0006103143118706134),\n",
              " ('Dan', 0.0003051571559353067),\n",
              " ('Wan', 0.00015257857796765334),\n",
              " ('Nan', 0.00015257857796765334),\n",
              " ('Jan', 0.00015257857796765334)]"
            ]
          },
          "metadata": {},
          "execution_count": 11
        }
      ]
    },
    {
      "cell_type": "code",
      "source": [
        "# Language translation\n",
        "b = TextBlob('Simple is better than complex')\n",
        "b.translate(from_lang = 'en' , to = 'hi') # English to Hindi"
      ],
      "metadata": {
        "colab": {
          "base_uri": "https://localhost:8080/"
        },
        "id": "18JXWdGWekiJ",
        "outputId": "ade0bc2b-540d-46eb-ea0f-66ec09109542"
      },
      "execution_count": 12,
      "outputs": [
        {
          "output_type": "execute_result",
          "data": {
            "text/plain": [
              "TextBlob(\"सिंपल कॉम्प्लेक्स से बेहतर है\")"
            ]
          },
          "metadata": {},
          "execution_count": 12
        }
      ]
    },
    {
      "cell_type": "code",
      "source": [
        "# Description of the word\n",
        "Word('apple').definitions"
      ],
      "metadata": {
        "colab": {
          "base_uri": "https://localhost:8080/"
        },
        "id": "z7F2FShqe-yg",
        "outputId": "6e244a68-42f2-4d39-9f6e-3f10faef66b8"
      },
      "execution_count": 15,
      "outputs": [
        {
          "output_type": "execute_result",
          "data": {
            "text/plain": [
              "['fruit with red or yellow or green skin and sweet to tart crisp whitish flesh',\n",
              " 'native Eurasian tree widely cultivated in many varieties for its firm rounded edible fruits']"
            ]
          },
          "metadata": {},
          "execution_count": 15
        }
      ]
    },
    {
      "cell_type": "code",
      "source": [],
      "metadata": {
        "id": "VyfRl7XyffIo"
      },
      "execution_count": null,
      "outputs": []
    }
  ]
}